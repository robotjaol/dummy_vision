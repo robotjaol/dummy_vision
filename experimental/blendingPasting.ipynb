{
 "cells": [
  {
   "cell_type": "markdown",
   "metadata": {},
   "source": [
    "## Image processing Blending and Pasting\n",
    "In this section we will discuss blending and pasting techniques that are often used to blend images together and pasting images on top of each other with help of OpenCV.\n",
    "---\n"
   ]
  }
 ],
 "metadata": {
  "language_info": {
   "name": "python"
  },
  "orig_nbformat": 4
 },
 "nbformat": 4,
 "nbformat_minor": 2
}
